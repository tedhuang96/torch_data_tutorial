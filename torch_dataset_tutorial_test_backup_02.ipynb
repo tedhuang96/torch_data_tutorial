{
 "cells": [
  {
   "cell_type": "markdown",
   "metadata": {},
   "source": [
    "# Multi-pedestrian Dataset Tutorial\n",
    "\n",
    "Author: [Zhe Huang](https://github.com/tedhuang96) <br/>\n",
    "Date: Nov. 8, 2020 <br/>\n",
    "The code base is heavily borrowed from [Social-STGCNN](https://github.com/abduallahmohamed/Social-STGCNN)."
   ]
  },
  {
   "cell_type": "markdown",
   "metadata": {},
   "source": [
    "## 1. Set up source files, packages and arguments."
   ]
  },
  {
   "cell_type": "code",
   "execution_count": null,
   "metadata": {
    "colab": {
     "base_uri": "https://localhost:8080/"
    },
    "id": "m_wnepU1gHFm",
    "outputId": "8539068f-c234-4e00-8250-e013391b5d98",
    "scrolled": true
   },
   "outputs": [],
   "source": [
    "# Clone source files into Colab.\n",
    "!git clone https://github.com/tedhuang96/torch_data_tutorial.git"
   ]
  },
  {
   "cell_type": "code",
   "execution_count": 45,
   "metadata": {},
   "outputs": [
    {
     "name": "stdout",
     "output_type": "stream",
     "text": [
      "cuda:0\n"
     ]
    }
   ],
   "source": [
    "# Import packages and check GPU.\n",
    "# \n",
    "### expected output: ###\n",
    "### cuda:0 ### or ### cpu ###\n",
    "\n",
    "import torch\n",
    "import argparse\n",
    "import pandas as pd\n",
    "import matplotlib.pyplot as plt\n",
    "from torch.utils.data import DataLoader\n",
    "from os import listdir\n",
    "from os.path import join\n",
    "from IPython.display import HTML\n",
    "from matplotlib import animation, rc\n",
    "from IPython.display import HTML\n",
    "\n",
    "from torch_data_tutorial.utils import anorm, create_datasets\n",
    "device = torch.device(\"cuda:0\" if torch.cuda.is_available() else \"cpu\")\n",
    "print(device)"
   ]
  },
  {
   "cell_type": "code",
   "execution_count": 46,
   "metadata": {},
   "outputs": [
    {
     "name": "stdout",
     "output_type": "stream",
     "text": [
      "Namespace(attn_mech='auth', dataset='zara1', obs_seq_len=8, pred_seq_len=12)\n"
     ]
    }
   ],
   "source": [
    "# Write arguments.\n",
    "# \n",
    "### expected output: ###\n",
    "### Namespace(attn_mech='auth', dataset='zara1', obs_seq_len=8, pred_seq_len=12) ###\n",
    "\n",
    "def arg_parse_notebook(obs_seq_len, pred_seq_len, dataset, attn_mech):\n",
    "    obs_seq_len, pred_seq_len = str(obs_seq_len), str(pred_seq_len)\n",
    "    parser = argparse.ArgumentParser()\n",
    "    parser.add_argument('--obs_seq_len', type=int, default=0)\n",
    "    parser.add_argument('--pred_seq_len', type=int, default=0)\n",
    "    parser.add_argument('--dataset', default='eth',\n",
    "                        help='eth,hotel,univ,zara1,zara2')\n",
    "    parser.add_argument('--attn_mech', default='glob_kip',\n",
    "                        help='attention mechanism: glob_kip, auth')\n",
    "    args_list = ['--obs_seq_len', obs_seq_len, '--pred_seq_len', pred_seq_len, '--dataset', dataset, '--attn_mech', attn_mech]\n",
    "    return parser.parse_args(args_list)\n",
    "\n",
    "obs_seq_len, pred_seq_len, dataset, attn_mech = 8, 12, 'zara1', 'auth'\n",
    "args = arg_parse_notebook(obs_seq_len, pred_seq_len, dataset, attn_mech)\n",
    "print(args)"
   ]
  },
  {
   "cell_type": "markdown",
   "metadata": {},
   "source": [
    "## 2. Introduce multi-pedestrian datasets.\n",
    "\n",
    "Below are snapshots from ETH/UCY datasets. These datasets provide a [benchmark](http://trajnet.stanford.edu/) for multi-pedestrian trajectory prediction algorithms which are focused on pedestrian interaction mechanism. ETH contains two scenarios and UCY contains other three. They recorded and annotated pedestrian trajectories from a bird's eye view. The annotations include frame_id, pedestrian_id, x, y. \n",
    "![title](multi_pedestrian_scenarios.png)"
   ]
  },
  {
   "cell_type": "code",
   "execution_count": 47,
   "metadata": {
    "scrolled": true
   },
   "outputs": [
    {
     "name": "stdout",
     "output_type": "stream",
     "text": [
      "filename:  torch_data_tutorial/datasets/zara1/train/train.txt\n",
      "data table: \n",
      "      frame_id  ped_id          x         y\n",
      "0          0.0     1.0  13.448721  3.937887\n",
      "1          0.0     2.0  13.343488  4.439072\n",
      "2          0.0     3.0  11.912325  4.439072\n",
      "3          0.0     4.0  11.828139  5.155052\n",
      "4          0.0     5.0   8.713256  4.415206\n",
      "...        ...     ...        ...       ...\n",
      "4302    7100.0   121.0  14.475580  3.583716\n",
      "4303    7100.0   122.0   6.464436  4.193730\n",
      "4304    7100.0   123.0   6.411188  5.311135\n",
      "4305    7100.0   124.0   5.046532  4.710906\n",
      "4306    7100.0   125.0   5.027801  3.962946\n",
      "\n",
      "[4307 rows x 4 columns]\n"
     ]
    }
   ],
   "source": [
    "# Load an example dataset into pandas.\n",
    "# \n",
    "### expected output: ###\n",
    "### filename:  torch_data_tutorial/datasets/zara1/train/train.txt ###\n",
    "### data table: <traj_data_table> ###\n",
    "pkg_path = 'torch_data_tutorial'\n",
    "traj_data_folder = join(pkg_path, 'datasets', args.dataset, 'train') # may change 'datasets' to 'datasets_loo' for the leave-one-out setting.\n",
    "traj_data_filepath = join(traj_data_folder, listdir(traj_data_folder)[0])\n",
    "traj_data_table = pd.read_csv(traj_data_filepath, sep=\"\\t\", header=None)\n",
    "traj_data_table.columns = [\"frame_id\", \"ped_id\", \"x\", \"y\"]\n",
    "print('filename: ', traj_data_filepath)\n",
    "print('data table: ')\n",
    "print(traj_data_table)"
   ]
  },
  {
   "cell_type": "code",
   "execution_count": 48,
   "metadata": {
    "scrolled": true
   },
   "outputs": [
    {
     "name": "stdout",
     "output_type": "stream",
     "text": [
      "     frame_id  ped_id          x         y\n",
      "0         0.0     1.0  13.448721  3.937887\n",
      "8        10.0     1.0  12.935186  3.937887\n",
      "16       20.0     1.0  12.421651  3.937887\n",
      "25       30.0     1.0  11.919271  3.957695\n",
      "34       40.0     1.0  11.428255  3.997552\n",
      "43       50.0     1.0  10.937240  4.037408\n",
      "52       60.0     1.0  10.467482  3.991824\n",
      "61       70.0     1.0  10.019402  3.860800\n",
      "70       80.0     1.0   9.571322  3.730014\n",
      "79       90.0     1.0   9.093566  3.594933\n",
      "88      100.0     1.0   8.571402  3.453407\n",
      "97      110.0     1.0   8.049028  3.312121\n",
      "106     120.0     1.0   7.519287  3.236227\n",
      "116     130.0     1.0   6.985968  3.188495\n",
      "126     140.0     1.0   6.452860  3.140763\n",
      "136     150.0     1.0   5.909860  3.109737\n",
      "146     160.0     1.0   5.362651  3.085871\n",
      "156     170.0     1.0   4.815442  3.062005\n",
      "166     180.0     1.0   4.303380  2.985157\n",
      "175     190.0     1.0   3.806472  2.885874\n",
      "184     200.0     1.0   3.309564  2.786353\n",
      "194     210.0     1.0   2.816444  2.690412\n",
      "204     220.0     1.0   2.358051  2.626451\n",
      "214     230.0     1.0   1.899448  2.562490\n",
      "224     240.0     1.0   1.440844  2.498768\n",
      "234     250.0     1.0   0.982451  2.434807\n",
      "243     260.0     1.0   0.523848  2.370846\n",
      "252     270.0     1.0   0.065455  2.306886\n"
     ]
    },
    {
     "data": {
      "image/png": "[encoded data removed]",
      "text/plain": [
       "<Figure size 432x288 with 1 Axes>"
      ]
     },
     "metadata": {
      "needs_background": "light"
     },
     "output_type": "display_data"
    }
   ],
   "source": [
    "# Plot a pedestrian's trajectory.\n",
    "# \n",
    "### expected output: ###\n",
    "### <ped_traj> ###\n",
    "### A trajectory plot corresponding to the pedestrian we queried. ###\n",
    "\n",
    "ped_traj = traj_data_table.loc[traj_data_table['ped_id'] == 1]\n",
    "print(ped_traj)\n",
    "_, ax = plt.subplots()\n",
    "ax.plot(ped_traj['x'], ped_traj['y'], 'o-')\n",
    "ax.set_aspect('equal', adjustable='box')\n",
    "plt.show()"
   ]
  },
  {
   "cell_type": "code",
   "execution_count": 49,
   "metadata": {
    "scrolled": true
   },
   "outputs": [
    {
     "name": "stdout",
     "output_type": "stream",
     "text": [
      "   frame_id  ped_id          x         y\n",
      "0       0.0     1.0  13.448721  3.937887\n",
      "1       0.0     2.0  13.343488  4.439072\n",
      "2       0.0     3.0  11.912325  4.439072\n",
      "3       0.0     4.0  11.828139  5.155052\n",
      "4       0.0     5.0   8.713256  4.415206\n",
      "5       0.0     6.0   8.123953  3.460567\n",
      "6       0.0     7.0   6.313953  3.842423\n",
      "7       0.0     8.0   4.335581  7.350722\n"
     ]
    },
    {
     "data": {
      "image/png": "[encoded data removed]",
      "text/plain": [
       "<Figure size 432x288 with 1 Axes>"
      ]
     },
     "metadata": {
      "needs_background": "light"
     },
     "output_type": "display_data"
    }
   ],
   "source": [
    "# Plot pedestrian positions in a frame.\n",
    "# \n",
    "### expected output: ###\n",
    "### <frame_pos> ###\n",
    "### A scatter plot with each point representing a pedestrian position in that specific frame. ###\n",
    "\n",
    "frame_pos = traj_data_table.loc[traj_data_table['frame_id']==0]\n",
    "print(frame_pos)\n",
    "_, ax = plt.subplots()\n",
    "ax.plot(frame_pos['x'], frame_pos['y'], 'o')\n",
    "ax.set_aspect('equal', adjustable='box')\n",
    "plt.show()"
   ]
  },
  {
   "cell_type": "code",
   "execution_count": 50,
   "metadata": {},
   "outputs": [
    {
     "data": {
      "text/html": [
       "<video width=\"432\" height=\"288\" controls autoplay loop>\n",
       "  <source type=\"video/mp4\" src=\"data:video/mp4;base64,AAAAHGZ0eXBNNFYgAAACAGlzb21pc28yYXZjMQAAAAhmcmVlAAApr21kYXQAAAKtBgX//6ncRem9\n",
       "5tlIt5Ys2CDZI+7veDI2NCAtIGNvcmUgMTUyIHIyODU0IGU5YTU5MDMgLSBILjI2NC9NUEVHLTQg\n",
       "QVZDIGNvZGVjIC0gQ29weWxlZnQgMjAwMy0yMDE3IC0gaHR0cDovL3d3dy52aWRlb2xhbi5vcmcv\n",
       "eDI2NC5odG1sIC0gb3B0aW9uczogY2FiYWM9MSByZWY9MyBkZWJsb2NrPTE6MDowIGFuYWx5c2U9\n",
       "MHgzOjB4MTEzIG1lPWhleCBzdWJtZT03IHBzeT0xIHBzeV9yZD0xLjAwOjAuMDAgbWl4ZWRfcmVm\n",
       "PTEgbWVfcmFuZ2U9MTYgY2hyb21hX21lPTEgdHJlbGxpcz0xIDh4OGRjdD0xIGNxbT0wIGRlYWR6\n",
       "b25lPTIxLDExIGZhc3RfcHNraXA9MSBjaHJvbWFfcXBfb2Zmc2V0PS0yIHRocmVhZHM9OSBsb29r\n",
       "YWhlYWRfdGhyZWFkcz0xIHNsaWNlZF90aHJlYWRzPTAgbnI9MCBkZWNpbWF0ZT0xIGludGVybGFj\n",
       "ZWQ9MCBibHVyYXlfY29tcGF0PTAgY29uc3RyYWluZWRfaW50cmE9MCBiZnJhbWVzPTMgYl9weXJh\n",
       "bWlkPTIgYl9hZGFwdD0xIGJfYmlhcz0wIGRpcmVjdD0xIHdlaWdodGI9MSBvcGVuX2dvcD0wIHdl\n",
       "aWdodHA9MiBrZXlpbnQ9MjUwIGtleWludF9taW49NSBzY2VuZWN1dD00MCBpbnRyYV9yZWZyZXNo\n",
       "PTAgcmNfbG9va2FoZWFkPTQwIHJjPWNyZiBtYnRyZWU9MSBjcmY9MjMuMCBxY29tcD0wLjYwIHFw\n",
       "bWluPTAgcXBtYXg9NjkgcXBzdGVwPTQgaXBfcmF0aW89MS40MCBhcT0xOjEuMDAAgAAACkZliIQA\n",
       "Ev/+963fgU3AQO1rulc4tMurlDQ9UfaUpni2SAAAAwADjiHS/hD7fzAeojtZrVU1U3SGizb6KI08\n",
       "BxRnrM9flHppXjEimsq+cAAUYqKXk+1UTmB1Swn3W8N11F0+qH2HK4l/i+Km1n0xIkUDo9dCzEmG\n",
       "3hvlHhggWQhB4dp1IDFOMD8Qbv8GvrdE7mSjS6Zq9H7MZwUS6XNAlXyJNf2uveGyR2hNahziwI5U\n",
       "VRvyT5Q9HjyzOxhQpEINFNrtDnObggKk2qa2rCLjRe6uAcAcJEgAr9U/S2u/xO2FTQMbF6EBgepA\n",
       "lymF3PAAAWoyIQhn7S5P6TFTiJxUcd1laNOLSfkSUXIJZv9h7wbUW2sFcNSYTEt94SGLQndutVCk\n",
       "PZq824YZDfxienPOD/EriL21dR1ZE5BgYf9G5xUHFsDUr9qITRdTMWHacJWA2eA2DHu+gzX0Upih\n",
       "eNiUtbmtaFNaYOd8UE+yIVGlSt/63KKEg6OtlFabFVJ6O7SYWXT3Jxcg9NpZgSio3ZJG18LvddXe\n",
       "6fMas0JMoEYoPLYKHLqdiedKhdmyAQXbPigWTdMlN2iGYhKaCMuy0X4ayyZJsAGZyJLMEVaME2LW\n",
       "G+dERqbCZjxud0/iaiFakt5UigyvFCyDsyvzppl+IprRASUeaVxaXhOtNx2AcZSs7YkK3S2mKfhf\n",
       "YPIpf7ooSo1Izv0ivo3AJ0vAtpbxwaC+ssMzWnBu0uCCE9k/kxTlT2hs5jIF9QIweR+iAXTFUqG5\n",
       "10ZRUmeIZfZtPP32et98O3zGe+WbGoAQlC3k8hgPNHaKfHvAZCBgohhHzPrlaO9Oz2OF2q8s/Gfg\n",
       "o1XC0oXgIibyU6DU3cy3A1vj32ic2h/1wDyjT6028a6LJMtpIuhbkWFp0mNpwYLVvBrOxCAqhwlm\n",
       "mueRTbkBT0ExTSLO34udBiLqa/IT1a+nKv1/zTeNqNGbfVj5YPtul8DlK7jl2lz9D9TBpSW1Sir8\n",
       "Bb8lTiqnZya54m0TAmDLWCSOU75Q23AiX8SNNB4a5l5+lGQH7q20RC5HF5YPKn2EXjGCw/V36bP/\n",
       "hRFOE4w9AcQM0DvYuj04GfShiiwjsjwMfizn8zknGEFWV7octas9njor7PN7ZsN4vGoul33KgANd\n",
       "AC/4+CQzCb/GYXRaDSF9Pb+MfuipGaM62f+FCRnQUiV98/M1un16wGkbxjDInwcoYgBZx4Vsp9nX\n",
       "X2Gm1jUQru4PSTQoiZ+7LNZdOKgRZQ+d8JKMz/jtdEItOHnt/7f9tTEvxE8CgMoFkpPSf8u8qowa\n",
       "besbWQs1QDiskoLtov23lr36QNx8DXmdZj4ClQhb2LVTBly7OVl+0dyYxM1f86LLrSJ3aQ7ttIkW\n",
       "GnegyG6/aI2tcYdEGcYHpNgaddZnri9ywAjaQCzFNiPphOlL3WxrJq+uZVfFWULk3xkPGoUaP1l5\n",
       "RnrRt56hmsa2QghL+aGYFiLzd8C+rNCptbnRKIMfpw50+pTKHxZKUObyV3FRqfMpoZ/5ZwA4ODfE\n",
       "Yj0SiviHl9i0k1Iks9cxU7bHk2iSOsVfbE/05uyT0/mocjKzcwO0ndAcIg/G+5BXjLkLoMa9Mw5w\n",
       "OmeU0HzMWu/LQ1Cv2XNxeX3jF1jkRAe3+hzlkHFaRXvGXH0Lrr/7j09XeWyHEXpn6VTgi4B++MeD\n",
       "syTLygf4fJfM9iiCuteTbqAOnud8yhZP4F7HO2dxxTXNhvVJ07o5JVV1oc+pvZIGGt0Pq0JXtgvY\n",
       "b3PWj3/o6uy0GRJO0GuJEwP4vCEVD8UuFn5HirejQMdgkE0eiZz+BaulgdctV3suTWngDH3Wu3u+\n",
       "+vZEEZ4q2DMb3Jk95sQ5mLdDIk4if3JiN4npqGSPlcNA3B/RP/2hs7///CL7cW4/2vQZnzMOI1iX\n",
       "p3oQyrr+bfmYJqVs7hbF9I0bZaERp13WJHG/NgLhAn8XAwRFjNPKyVHB5D0LbRA4Bj3fOZYb/yv2\n",
       "bMtvcwDX3FEBb0gBxD/qFftTaWNykV1wCMu1maH6Ht0AAe1zLJrfgkUBOxR/nd9DQNbHMI9WIb9A\n",
       "+8qZ1mkB9dzGolDbDIat8VCtD0HY6O7xedUBYI557rVx1DXQXVeQtWsDMucNJDFEnqjepzwOXH8e\n",
       "ojwi5Ur7h9yPAY3VaOVxb5XFcGslRBHQ2XAlaaE7/bthXktmQK+H7th8esxAf1FfwYeCTFOlDHoV\n",
       "GRs0UvyfTG1MbYiXtT0YJ6wkV3GglFiHqDfLUa574x8MQFa5J3EnUFDENicFq2O5bVD4qMeAErKt\n",
       "vbb9o9CE6ap/4lxVUZh52GrzsfJZgY6hobG9VErg1UZXd//YkFEBJYpfxRVcSGHB1ptwyWaTzFTJ\n",
       "U3AU2VJtetjdb100QKmFnBQXQVfTKz8h208xAL4zchT9gZfo6GfdHWOkza8EarqQNoxNprm5G4jO\n",
       "FFIublQA/LjZwrhfF+cWM4cgEtRBvj7xqOFm7sZ9ZLL0hz0+Mr9gUbA6/xx0kimj3OpB7KkcNOe6\n",
       "4JuZrJtlp3ZbC7hW7127FewxZp+kmyrRAIBesC0OvtNw0+dMHnQqsNqTsn6KG2XDkFNM2gjCCAiD\n",
       "fJl+uN/uw3uLmHcx03qRsWMs8ZqSyHx9/HC52BxQv0jvUt7xOsNz5dBxoxA9g4tskNvbqZ6dzwbV\n",
       "r/4MAt+vYYqCO3H542dOU7LPg18eusF+q7otBnhLURd7Zc2u7WQaXOXN1NtiCxI+ItksIOtievZk\n",
       "ixTrKG7w/FXdRg8wNannADAk/BPSPkz2Ei60pY6S43xdVeDq713PGMLn7p5TDwJkKAriAyVZy6wV\n",
       "e8w4RF755RpMVs6dmSatFlaycZRR7Ca3swlbk0tfrKKuNkUP0oFvAX9jIV0tjrCYYim3zAmRoWCw\n",
       "upthHnw3RgilCZGmGZu4lJBRsNZT+i6+F+PjHFIlR7fSfYcirqmrYJLs65nlA2++OasAmkymOfCp\n",
       "JzMDfw5ar78yPpPNVvn4zaVMCUYd99c91jDrUzqH66I/zzYz+DYM0RvyKzfQvkKic5CEMi9h6Y7/\n",
       "TbyFiEu/tKl9WY1hsauZCzIkQiDZUf2jpfCEU4lMSk1HHdKU+O2lBdhz0dyxHbMKw+Gp8QTcp+kr\n",
       "rQ7r96WZVvGzBOJnXXsVKApGkmWEMCAdaxtg9pNtLzxpzmls+PCV+4oJbqy5PuDxKoMjxLVNR2me\n",
       "3t9Co7cAA2tAgtpCvvi8v29EDOgaCyOztxmNUci93sFa5lG/LKAMKKwceriHv6eZl89Gz3z55Sv2\n",
       "dlLlhS9cg0WkG+4ug/nJISbtMhtVbh+OKLVnhQ6OFP6neUQLlsMtCzBDtRnOtInOGefyKGCT5Lkr\n",
       "CZ/0eId0d0Zu+0VFC5wRxw+zya94y1lxQCgzYt5GwsopiSxprR2OovhPAp00vq+O3sqqv0r1uB1e\n",
       "Nnuy2ofrPMMR0mQm+fQkJGXjnOX9knWrcD96o0+wSfdi+o4mZIFQua39pUSGRhP/lxqc6DRdH5t2\n",
       "98ybUwAAArFBmiFsQS/+tSqAAy3IfZItAzBvPopuAn0NhoAq1OWf23aAenbu0/mN2Lf2z+kcyoFL\n",
       "AynPUDl0FB3Lhk1k6OIrZiRzltpuWX3bwdiNLLtoNKa9RG1d1k1dJknPeI234qtaLlXAdhNtpyci\n",
       "QeP0sm4ENgvB3klR0pvDD4+wfmO+ZR/VZtHJzqNdHb1SDoZ0srfBrWe/meDKL9+Nr0NaV9LK7Kju\n",
       "aEYtSRxF4cui8+HhXLx8zFuVIYgqlBoEzP/zsY9PXzBsyF8a739/jeerNX6k7k32m1T0XMQCfZx/\n",
       "1wDqHFcjYC/C73ltafUo7HGWtz3SSzJb0YV0A456W6vH0mx1UNEdK2OKt/6kNbWXzHr70CfXVr28\n",
       "HXG76ULpzynOvR5hr1LR/9iB2+g0ONHVPNpEhWQRhSUj9cFgo7iGqlVsPi410BkKmDtQ3s1Oexis\n",
       "Q2A4359+OLjzO6eipquPV3eY1DTyGwW+OCkQz1QL9FIE8l74ncR60dKYFdlcwrXPAW4gtgTcpdnw\n",
       "3eaV30DrbSkBD6IXoOhLdFq22j+PgMHSMiY1USAQ4WlvfgyhtfBDuacoHn1QkCN/tBXJkV5UAOfb\n",
       "Es5cwVTEHHOHxwKjJm7N92JRaSUFF+AKTVnJXaZ2S+i+Jnz4ZKsyXXUYJpNPhJ2V7//+2TNI1pXz\n",
       "J9vF+6k/aOqzcFYVP+VdP+7u2DAPJFm96enRUFFXXEJ7Y8I2hz+zy4cI10iyOHOHymlxJRjK5ctG\n",
       "dj/q/rC/TQDmgedQ42TNMv8+GmxUfi5YEVDtOWjJYaVJFiXbGpAPTzdlLw0Zh0OEc3KhhKIfcR66\n",
       "ku+Fnd9NzJcEBxQe7CO4dAM4hmms2jK9IwWCJiun6VYPQZsT71O+QScQAthrIKhJnkYb7ZNW5D/d\n",
       "rOsilLcjVdNrFiDPgAAAAR9BmkI8IZMphBL//rUqgAMZFFapyCNAAFsjH8sEsArtfb53eSspSicJ\n",
       "E1sKaQ8UzwG/FXgkRUJQMuG3pT3CA9n42yRYo64JXRZSthwQmErfe3lY6HabOnBx4wJs3Rrg/x4c\n",
       "tG7iVxPenXdZfwDbu10g/cqz2f2XvzXUrZKB+LX2RV3VTjUGVeabB+e/iB9DOXgnZYog5ibI7Dd4\n",
       "1O/SYKGmwMT8/lTUqnnwuNTQlsCuCjJGBxn+mCgFEWsFRDz3udsbkFXuwijosVgHSIynvDFRtIas\n",
       "o6oaTjb803P50SnJgoAsPG1iC7TcZi3MpTbBTPyx6RDF7b+/GN5WB2oeOdPEDEYqySbamAn5aoJU\n",
       "OwmRrZwsQiATZcNGWRt3qPof6QAAALhBmmNJ4Q8mUwIJf/61KoADFZyzGAAQri1/wXOULlsbTKye\n",
       "N6sY68RDNI+jMgF6RS5kAj/9uODAiyV2iFke4Y6PlwFJyQtG+7znyyPLx1ode2iDey1wVW+UwPeO\n",
       "YLzSsxPnzi70PJ9e/1gII5LIzRAz1aHdsSv3fAYoqheiYKoKRZMVGFmTrzbfp8zAOYvHYl8ARkYM\n",
       "cTcnSy8uk9QBz+38w9ezhoD0I8U1MfSzrc8c8Ze9Nr7SDeknAAAA6EGahEnhDyZTAgl//rUqgAMV\n",
       "m4egAIKBEB9Fx+Ks0gLmgFC+ojtcRuE5vysrMLU24Ry6jOTpuhC5tdnDFkNT8XHCUiEEaSeVwnr8\n",
       "ennt08ZozC24FL6tcVSD5y9q1vbOcj5hq2u4nbfwg6KxWuOR5uqyShp0Rqcc6kvZQlU9NjPVYWTY\n",
       "8WthWr1pqMHLbw+VnCVXZj2X4/mAfDwU/HY3sFf0Z55HhdMBoTJW4q13tAbqcAtbR6aEmb1wNX7Z\n",
       "z3unWJL9REfVqzqtNmRPCtBdzMfby5TcsJHy5kh2fprr0jS2aut0dYeoasEAAAE+QZqmSeEPJlMF\n",
       "ETwS//61KoADGch9korVXc2RXJkM2ghjO9ZDX8mICe284xKkpGUgsyY+AAndSckGKZaZ9dLPPGaf\n",
       "rmyWauZDaJPtSLSX5kOYuw08R5MtxGmxQnRuOgq1Y8JzPOFHE+z6uBSXbdoJNnppy0LcESGYM5/2\n",
       "L4PVacyRnbA00V4GxCzoC3nE5Dl+Kc5CE0cqcFuAEqNUN2XZZy1wpU/60QKKRZ83OBeMWq5tCNUI\n",
       "JOzgoL+E//h/ZVxPFnNiIw2E2LF/ravhajOB+mw0BHfKrPl0+wzxw17W+SHXwm491hh31gKdgFfa\n",
       "ZnnQRZjhWIcl8dnD4bO3r6r0pmXp9A1wCl2fqV6vkywMdSQCenhC7w3ewTKbc6qZd/xcEDQ5//2K\n",
       "A+PihZ00jKGtfjnAqTRvlagiuDWLUs2BAAAAowGexWpD/wAIa0H7Hm0yCwlxxzyQXiuQALKQrni8\n",
       "qOpgc2XvcEgtckmC04GXQsfVjnD5EPrvjzhX+sjxXThKgXnC6lgu/wIgJ0rmdBkZfSb1c9spjfqa\n",
       "QKXkfCVvKCPDzAmIWRA5W92E6RgAeJtutb04PT4WAt7PbsA24DT6qMsVREqfltDffjpApZzCTn9L\n",
       "Ff5NNQtkHDpAMJZRTL2PYnuQV8EAAAEDQZrHSeEPJlMCCX/+tSqAAwFPmXF07imUSpUN4AK4DlYo\n",
       "zBVNnRWIJf7iYLFMJyNaQ62PG6UOGPYXAOXWXW68S/lLLwUFyBiG7Ga/MrOgeiQ/0y3BtuGDVU1B\n",
       "er26rZn/pvH8A0uofS1JZmSJ7yBR0wlxo+9PSKKV/CnwEpU7ODZHUcbsHkrYJfHNytx7zUhUev+G\n",
       "IobTuEhxDHgBqamj/tdfsbdS74btZO53yd5qU6IFWZ8gqfI2m1TNuxh/VTrTijCoKiYNyq50ddSC\n",
       "FSo0EC4E4rvhnJ7AO6J52J6FSHUKd/o7EStAsASNVZ7vA+/4/MzU5WP5U/N5D08ROqO/9sX34QAA\n",
       "ArxBmulJ4Q8mUwURPBL//rUqgAMBnbWgqoAOOpVp0f2he5mzYMX+Pi1W6yZ2ECkz029i3j8o7NpP\n",
       "gF7sOS5EbMi1oCzzPzU6JbVZwGi+PoBJ0e7LPyBrR4HNGL/o/YYltdAajMUmmsMByGFGtdC2EW9J\n",
       "FWSjHK3oUfjC2zwRsVnI8Xwbie8SjH/hJb0iMGxQzX+WCIDVEG3B+cALAQtOl/owHq6lga8lv0K8\n",
       "m/DxsMV8rZH1sijAU97EHvgYPS3b3atstWt8KlPoul4xswFMm6FAuP5R+qk0qN+xDyR+uu4EVh+X\n",
       "1bDI+/OrC5OS5F5Ft/L8STvQcu45iUc4tIeeJ+SG+N832Tem99MwicW/6k2w/WLaslAQX/7pJ7DD\n",
       "/xTiWr5QVIbC1SClMOqhsqW/NTl4ntDOzi8rOOzgd/zzc8FGc9rbAAR/P1gEfH3NStfsI2wg+t+P\n",
       "HXje6s3XWaH4CRpZbbkqr+jasrQ5cvP8syHEoRKbwYgV5y3mbSko697SipsthaAevKc+0m8wujxX\n",
       "I1mIit4GMfVBgCdpWq4DDmILF7iJiWO1YJf/trHoanHUuwoFoHSPhjkC+F4OyF9I5SE2QDHTS6z+\n",
       "3vokxLNhr6Mn4CPBbrrxYrkDHRI33V36t/XpwL2AYNiO6HLXyb4abCf0hADbMXm91sZP15f6p2lj\n",
       "Q44/D6Hqq8QanUtkqrxYdXSE8NM78eiMLgbRgiJDuPzbMI2+bzq+YkeQPJRbDxV5VTlr7w4kFTow\n",
       "b+tOk0cbWBL7i+omPOSlnyPACItTqH0Qc62TXePJfWLwCB75eN9ZRIJ3/6HeHQGbDer0Cif+q5r9\n",
       "NGJQAC59lzfwVKoKj6kc02HfLnu5ByVbOgy3wUpM6WxRCS3yVOa073pSw4rKmNsAySflhp/5u08v\n",
       "CZsbulgMK/hZDwwqGX+MBWG8AAABZAGfCGpD/wAIK/rxrB8vTG7k0BddIfLJkT70fyR20ug5cHf0\n",
       "foi38ChMs8s60Pq7PHrzxyhVqqjBrkIR6ymqgu3aBAlg4QWEl5lNopfcx2WyNjyC1YGGUp/2VuiU\n",
       "wvlBbm3f9/XG+VIzW0bhr2MjSk+Q/oFf/weMC2bNy1bbhI9EYgPMzoYRNLKlsFnAcXtynl/QOtr0\n",
       "nYOnimsp0zrPfEBzj/wH8JISgrBY91CNpY6eAPxgHxfiyBOchaiKzvD6b9ue2joTGZItXdFRNkjG\n",
       "dJKTeDKdA2JvVyVp0rA50xDoi1v0XW9ruc6Rlh4HZGB8gM3O2lOq86NDsuxmQrgo2pYZkyBiZz9K\n",
       "Pl+G44hwVP3/itZD0zR+n7x7GGHGbJZnlCyxmqI9kBKW5BL2U1lcgzlomfNdzLLf0hoRSb4MH0OB\n",
       "IXdUi22sUPZTNsyDkXBwRTrB9TWvpgAIzRXcRTZGlRkmc9DiAAACZkGbC0nhDyZTBTwR//61KoAD\n",
       "Bch8bqj0utYANB1svWwWZcapPvp8DYvHxJWWEyVU9Ayo27ZjllZDORFN/gnnGnLvBrmT4OheE38J\n",
       "pQGtQJpcSpg66zk7Cikl5out/cIexQUYahPvBq+sLHD01Ks9zsDzLHe3UjLqkKAKwN7mUzPSLHh/\n",
       "nam+5Rs6uNqsv4FVVkx+x2k0FutXCfp7AZbYHcom3CNtvMf13K1v0h2/8dmldgxmPZlUrasKqnE0\n",
       "4S+c6SLlP3M3faInBGOnEm4gcNuag08BHWCoOdQbF91MBF00fhWyLkDf0Xz4xMG/kmHFO2ZnlRMB\n",
       "NA7v6tl3geYLGv/VHV78E6lB3QXGgqN17XqSj27N2jaKwpniwng/2rnPyx+m6vK/mBN7qg+uIDCP\n",
       "XHxRvzUBvvYLqsX4Aln/IZ4Zh8U6ZLreGXN5yKAU0Wp7n+PeWRtnYYuYccGdzMOLusUoErxMi7rL\n",
       "MV6us/1QKa3fujQUi9BS0kd/TAsITDywCl45ZEd30mhON/YfVLNNR3oSE0q+Gil9ll2aUy4nKMKG\n",
       "DfB3K69EzrLSQdhm8vckz1cZK39xtnwWg28KkHCy/7xmkmyY/6EUxyIYe12XCEluTSH2Xg9fI1hV\n",
       "6RJnY/34cwM8XkHnkOd9PZt1GfTbdf4dctvu3Xa5bnyYkwoqZnkohoNsfW60syJNzcWUf1xlYsfq\n",
       "EsOzixw7JCuIgqkW7RRtiZGHPs8kE4r4fFhiouDNyQFApBgKWeaYqm0uYwHcyU53kBSD5SHJ5RNg\n",
       "kUW7MEobve/WudGx0owgQtQKiYs8x9WHAaYpAAAA5wGfKmpD/wAIK0H8b8ZoAEpxNGmKwbCwyKDt\n",
       "Q4tTtnEb7E/MsUsMCkfkwljJ6jq0oSRIyUmviJXeE/MQQEDdOsdxR/g9JYrVU48aNgFhqrqwDm+9\n",
       "BRVKZOze+0MZXGTc7mtzoChgSkcO/3p5XjX4qFe4SBXb+RUzqLv0JgwUDeeCDBjdhEsvoAOnvrC1\n",
       "eZ3uTi61Y2piKk82H+fNyOTDSeV/waQ8cnuaMk5NXR0tzCkLPpXbpM8tLunpcYyCLYnW/RqGgsfF\n",
       "8Euu4SyDVMGdnh9jJcDfjmia1g9k6k+EL72OtnL6b7YjQAAAAjxBmyxJ4Q8mUwII//61KoADk6uz\n",
       "/iaWQAG0pLF4MyxlKdEZ9qzevurOCvYmg0YJeGWS5M/CJoJU1yHZMeNMnQvpvdHa6Cb5msjH18xa\n",
       "W0o1ERCydIRhIUCp1kGk6T3HxzX3VbH8//D/BkQB9uYrMeAqJlwYwqet/7MQa0uiwRshBlsypCH/\n",
       "o4jAEhrrwnLpyHSY+N61rzQYHO3lMQyPcAgndPX3740nwJL/ySADzQbbMNUYWp4JKHrrjumV5nW+\n",
       "/Zhi2LfwIuXWpFPMA4TYw/jkCwx3IydYf/q0KrhwY1kumIQ68Dm3awZJXygIkyKe1Xp5TeT5An0s\n",
       "UhfkGthg2DGAl228TGWB/ptPKAej1In7nCrMlK11UFy4hPiPIbT4xFicWjpefRGtUzqT8bj3ajsC\n",
       "ghMxZwKeqmMuf+wn7iijXhTsVcRwKHu5rDuDoMSxIpK7nAiJd06gk95diGJvrqpqEjSzoa2anlXI\n",
       "Sz32f8M4tzj+jA1VvYsrt8mjERpq/Kp81BDtE0FvpX9bxxgLQQjV+Rbkp7pB/wjNRs/gfQKGvOoY\n",
       "gQ9KBJZxsMkikoUaAz1H2IfGJlwSggBm0034ZwZO5BLHPEbmMxl0lLg9ErxDAZ6eg8qczJ4wzYkD\n",
       "Nxlr2d0KBLe1h9KOmbIDxArRAKx1Il2qsPDQ0DHnCEh8B38/JL9YKEHGHoCB5OvvVZSkv4O1E7V3\n",
       "Fz+y+k7rQD4PznCfwPmrsTuX3d7Hg836lxatUOaxT0rFnr1ndLRyYAAAAYtBm01J4Q8mUwII//61\n",
       "KoAF4/xARyOq5T6VcM814xbElMqSTmpG/ulJrf4hOUYw/Oq1iqf/ZeIhH85OyPKvwjyuo6KemthF\n",
       "JAIXq3wDMdXQma8xjcKHFQD/IVgWC3mueFd9guGkKGmuPQgrXL6fnhy3ZtWLnX02WIkNxk8LFe8b\n",
       "WRsKUOvVys7QRXQjGu5hXrCKoBrnbiEkqNYkI0a4g0Tw27BH7ImcQ4km89k4wtwHt8h876Md6zsn\n",
       "P+P9b8U5hj89cb/7FKAJpofQo9u+CYvoFZxH4A3XeXwysIy06u6ZuFQ5veSeFScRmBZmH6A++th5\n",
       "HSJ11dFkE/cYIhmhpUs6HU66LYO2h5VDxDBlFlNcf4GRbqr1nM3RzbPRkyRFwmActDizzVgjA38Q\n",
       "0bxZJnRBAADSmRiRS9azZTfuxsaw1M4k66O7MB1Lbu7cX9ORmPj+beV2zbshnw73Fe95wRty7sKY\n",
       "Cz+4+G4KQTvWK8JH6RBanbINasZJeHvsJPegxVJCBESIB9p+7mrZFwAAAXpBm25J4Q8mUwII//61\n",
       "KoAF36Izy/FgAudAVAjLlvuLtG/uakQZ+cRMFknM21pAxng2D1ZG8wY/eyCjKtAEkC2abHoW7Tne\n",
       "Z4IluwrJa8wJqlYh+DO0btM/rowykVWw0MvwgEJPxxmiPhMkKXML0zzFguLGzGw1CgRA7ReY3QDN\n",
       "jtX1mxpdOeukRzUvwcsCXAStmaJ+eroHIQ8/asrjFXjesmJ7XbJ1hWMYGEA9iHmavKVidAhH8Y7c\n",
       "okaPv+Qii4jlSfkJwJwwOnsnn0VM5++ESPIYa3bmifdUMXlpTNRs/zunYx4PPfNFLX9H4LCLYTJv\n",
       "+Dg0VuHHfmIRpIVMXh72Tp67mBQyB9lF4Cxcc+LumgMUIgK3i82h9SNQ3D8zD01N8JU1mqHIjx6x\n",
       "FZFVJMtKn2Yywg4s7Xb5g8dAk+fy1t1D5DgTDnZ5cT8lsRUXrSC/Q/3U42kmB2v6c3zG5HGn6u60\n",
       "q+XUA/g9aqFdQgUHDTljh2PkWOBURlUAAAGRQZuPSeEPJlMCCP/+tSqABdza2ogA/r4jZOFU7NsT\n",
       "WTqPOllFjejEXWb/Wsir+mxIgQ1/uiWG7GLFYyCIBQgYyMjcWXh4Em3wpvOdkV05nN/0ar/S0Pnm\n",
       "NqQMjx7kwH+xp7L0rVyk/2pLVAr+imRjgAj1gbkzqCboYup/TLeWeo7nSMp+cfbeIxrDp1izTkQk\n",
       "/hhGZL0iafDLJUkuwMcqYMIm2R1spTMR4HEIqrYVLdxOe13QY0pIyXnfIthG//AuLifb7Tou7a2E\n",
       "laia0CgXuzbWSQ4MDrEoV1bdJOE79vEVZ5trygyVD0sqY44XtBtSiXcGhRJnYzh7CpKZnwU8x7I0\n",
       "nu38MHZXgm3+1j4lntqW4qfygRRGTRT6+ZRIJFlMI8nSfFalpO531aCi1iGaZ7eOYLS13Rm8cM2C\n",
       "uX44RL+KO6JlQGW8vxtZx6qKbhWt7jOhEU7yhr9zdbafac/5mIB/HREnol3o1AiXlqkt/vu9ZGZK\n",
       "jdAH6CIU40/qRtxHA1S0RAFMIOPX6qCr6WwbZBcAAAGRQZuwSeEPJlMCCP/+tSqABdvN6fO3uDeJ\n",
       "p8fEh+igABvs+uc+upu2ySbNQ+JY8aOsLmD5jvtmhK3cgJYxbuAm1Oc9za9KQ6gACm/gm7gKB5/1\n",
       "KFg0lM42sVuxH9qeDGf8KN1w18r09N6VSBGm6lm0UqYSIW/1gjao1iMz6HsiUP4fIePVftV/2Ljo\n",
       "jUy9/GWX0yWEtuXBgqqgN1rt4VR2+ss1v85RJ2PpNQ7Cjy9OcsyfpqILm/1pCAyvrTha6F861dGm\n",
       "j+8GKPMLZ+MHW4L5okgugryoCWSGBkjSr+TmkBkPE+1KJzDfrlNk0Re84gm9AO0kBNOjRgfEDQmL\n",
       "Ovr9DgUdymoxy+ck2Txl9JNolyNNj0SNhxZRtS+4HKq96LbSp90PqSjaqFY2QD2Vzh6kOlxJfaIX\n",
       "eARjZWDwRMXWKKJ08Eb6mxlDv0ngs4YGQ1naJL+eUS5dUY/v3n5M4AL9+iQSrsSmDTU7U0XHsCy1\n",
       "oMmaw/UAxIJmiX0+I0DRLYbt9s3RpTzz/5sFfirjfjTwoYAAAAE2QZvRSeEPJlMCCP/+tSqABdx0\n",
       "Z0siACUSNvX/D1+zWiU+rC/2EEr9qDZj9666ksWKxpEYewOZ43GmRoonTubPqgaMyDZxyFd7TSJp\n",
       "dyybHDCOZgax/wKeI4mGCyd2c+eOFag3C5nhwHfnT2seAqJfTcGcVl38htdbFydFSX04h8Tir2Z6\n",
       "qVDa2tj4pcm2/Zm5FB8CzhAVkbqff9eV982VFU3JFrqLAThJ53GDqvp9HvkKffxYFzWq1yHsN4p5\n",
       "YTgf3+CwLB3M2rWGR5qckintDuFQwFcK20KZ1tuZvb/E8Xa4nFaiJnWuds+23UDWy7q5ukDBNHCu\n",
       "3x25QgURcEvtGjHtsQ5Bh2SClbrf+MFfa51wf9xQhm1E0En0keOAAuZSfxMfce+PvSn7FJsA/szX\n",
       "ZWLPrl5OtAAAAglBm/NJ4Q8mUwURPD///qmWAEZ5X/RyfjcWABNF7dC8hZwHY+IrCSgaJPca4NZ1\n",
       "V72f2S3kl+Pqi7u2oLNC/lqNpCqtRPpFp3PRK8jVK+tLdNZWNmyLheRydwE3W64Tk1R99nF1Vust\n",
       "3hiTI/7qnnND6Uk3coMSeRrrNTPntDWb9tXD8/Kr49H36HU8V5TrMwJ0lo25Fqnhhmsd0d8nsAlC\n",
       "olq1qacOT7UDOXMTKL6+Dp5Jeq1hkCrIoFEDyVRrk4wcOxy61+IDcdUj1DIAeKJEEs5EWFRaX/bK\n",
       "8/tOQoJtq+XOIo1eXteANK/7+KCKso1gvxqWFwS+tDmvZR/1P8LA0EgvoqpKBg5b1GlHTxiwRpzm\n",
       "NcWwrp+GQZN9MkR5M17cYn4iTnkzzvpUhGWf5WWskz2Fa7hkoI/QMqNcalwkJVtCoWPr7oPX6VRk\n",
       "hLcFQqTsYG/sZ7SiBUICLLmXkVYdL9BsnQgLYyXfu19lkI5biQwcPlYehWhV8ppVIAYSzO0uYvAx\n",
       "g9xMlYn6VjdvREr6d0nsYwq5Lk2k6PPt2DsmrFgAZIkV0hoaIDikXdAEJ+Z2jGpWJoolXZKAKrwJ\n",
       "kqa5kecytRM4/Aj3bDeuzFDqOoXOk+RGgSHvcq0m/kPyl00a24ENZtJ+8Ea43CtCz6JgYy9eee+R\n",
       "3xjxSmgXwjA8rReQNFutL4Y5MQAAAP0BnhJqQ/8AGb8c1GS5FPGPH4ABPhs3NDp06DXtfl2RGQ+V\n",
       "I01nalvwiEjSqgnjK8l/3xjlGXaa6xF8rtgoY4SSOBPlPW1R1s62u2Zstufmqgbs+uzjLrglDS8M\n",
       "KE6FPVyCm31b9YcnWugqNh5C84sPmtZBYywiX4sk8jwfMuzJ/COft1Z8cXTKXbipbgvUuM/QyD0k\n",
       "yyJCVbhe7ympflTTFSfLIZSv0WO0AX9T34XIOTRHbigxNs47UbJ9Y+qXEt9dRuGoFt2BNNRxtwjR\n",
       "hsepfG8YdTypzptUhHaRSmSDH7MhAOjcSUIrnGS3j9z5hOTWDnGblilFCtQOJW5AAAAD1m1vb3YA\n",
       "AABsbXZoZAAAAAAAAAAAAAAAAAAAA+gAAA+gAAEAAAEAAAAAAAAAAAAAAAABAAAAAAAAAAAAAAAA\n",
       "AAAAAQAAAAAAAAAAAAAAAAAAQAAAAAAAAAAAAAAAAAAAAAAAAAAAAAAAAAAAAAAAAAIAAAMAdHJh\n",
       "awAAAFx0a2hkAAAAAwAAAAAAAAAAAAAAAQAAAAAAAA+gAAAAAAAAAAAAAAAAAAAAAAABAAAAAAAA\n",
       "AAAAAAAAAAAAAQAAAAAAAAAAAAAAAAAAQAAAAAGwAAABIAAAAAAAJGVkdHMAAAAcZWxzdAAAAAAA\n",
       "AAABAAAPoAAAEAAAAQAAAAACeG1kaWEAAAAgbWRoZAAAAAAAAAAAAAAAAAAAKAAAAKAAVcQAAAAA\n",
       "AC1oZGxyAAAAAAAAAAB2aWRlAAAAAAAAAAAAAAAAVmlkZW9IYW5kbGVyAAAAAiNtaW5mAAAAFHZt\n",
       "aGQAAAABAAAAAAAAAAAAAAAkZGluZgAAABxkcmVmAAAAAAAAAAEAAAAMdXJsIAAAAAEAAAHjc3Ri\n",
       "bAAAALNzdHNkAAAAAAAAAAEAAACjYXZjMQAAAAAAAAABAAAAAAAAAAAAAAAAAAAAAAGwASAASAAA\n",
       "AEgAAAAAAAAAAQAAAAAAAAAAAAAAAAAAAAAAAAAAAAAAAAAAAAAAAAAAABj//wAAADFhdmNDAWQA\n",
       "Ff/hABhnZAAVrNlBsJaEAAADAAQAAAMAKDxYtlgBAAZo6+PLIsAAAAAcdXVpZGtoQPJfJE/Fujml\n",
       "G88DI/MAAAAAAAAAGHN0dHMAAAAAAAAAAQAAABQAAAgAAAAAFHN0c3MAAAAAAAAAAQAAAAEAAABo\n",
       "Y3R0cwAAAAAAAAALAAAABQAAEAAAAAABAAAYAAAAAAEAAAgAAAAAAQAAEAAAAAABAAAYAAAAAAEA\n",
       "AAgAAAAAAQAAGAAAAAABAAAIAAAAAAYAABAAAAAAAQAAGAAAAAABAAAIAAAAABxzdHNjAAAAAAAA\n",
       "AAEAAAABAAAAFAAAAAEAAABkc3RzegAAAAAAAAAAAAAAFAAADPsAAAK1AAABIwAAALwAAADsAAAB\n",
       "QgAAAKcAAAEHAAACwAAAAWgAAAJqAAAA6wAAAkAAAAGPAAABfgAAAZUAAAGVAAABOgAAAg0AAAEB\n",
       "AAAAFHN0Y28AAAAAAAAAAQAAACwAAABidWR0YQAAAFptZXRhAAAAAAAAACFoZGxyAAAAAAAAAABt\n",
       "ZGlyYXBwbAAAAAAAAAAAAAAAAC1pbHN0AAAAJal0b28AAAAdZGF0YQAAAAEAAAAATGF2ZjU3Ljgz\n",
       "LjEwMA==\n",
       "\">\n",
       "  Your browser does not support the video tag.\n",
       "</video>"
      ],
      "text/plain": [
       "<IPython.core.display.HTML object>"
      ]
     },
     "execution_count": 50,
     "metadata": {},
     "output_type": "execute_result"
    }
   ],
   "source": [
    "# Animation of pedestrian motions in a 20-frame period.\n",
    "# \n",
    "### expected output: ###\n",
    "### A scatter plot animation with each point representing a pedestrian position. ###\n",
    "### blue means the motion is during observation period, and ren means the motion is during prediction period. ###\n",
    "\n",
    "fig, ax = plt.subplots()\n",
    "ax.set_xlim((0, 16))\n",
    "ax.set_ylim((2, 9))\n",
    "ped_pos, = ax.plot([], [],'o')\n",
    "plt.close()\n",
    "\n",
    "def init():\n",
    "    ped_pos.set_data([], [])\n",
    "    return (ped_pos,)\n",
    "\n",
    "def animate(i):\n",
    "    frame_pos = traj_data_table.loc[traj_data_table['frame_id'] == i*10]\n",
    "    x, y = frame_pos['x'], frame_pos['y']\n",
    "    ped_pos.set_data(x, y)\n",
    "    if i > 8:\n",
    "        ped_pos.set_color('C3') # red\n",
    "    return (ped_pos,)\n",
    "\n",
    "anim = animation.FuncAnimation(fig, animate, init_func=init,\n",
    "                               frames=20, interval=200, blit=True)\n",
    "HTML(anim.to_html5_video())"
   ]
  },
  {
   "cell_type": "code",
   "execution_count": 51,
   "metadata": {
    "scrolled": true
   },
   "outputs": [
    {
     "name": "stdout",
     "output_type": "stream",
     "text": [
      "ped_ids shown up in all 20 frames: [1.0, 2.0, 3.0, 4.0, 5.0, 6.0, 8.0]\n"
     ]
    },
    {
     "data": {
      "image/png": "[encoded data removed]",
      "text/plain": [
       "<Figure size 432x288 with 1 Axes>"
      ]
     },
     "metadata": {
      "needs_background": "light"
     },
     "output_type": "display_data"
    },
    {
     "data": {
      "image/png": "[encoded data removed]",
      "text/plain": [
       "<Figure size 432x288 with 1 Axes>"
      ]
     },
     "metadata": {
      "needs_background": "light"
     },
     "output_type": "display_data"
    }
   ],
   "source": [
    "# We are interested in predicting pedestrian motion in the later 12 time steps\n",
    "# given the observation in the first 8 time steps.\n",
    "#\n",
    "# We filter out common pedestrians across all 20 time steps,\n",
    "# and their trajectories in these 20 time steps formed a data sample.\n",
    "# \n",
    "### expected output: ###\n",
    "### ped_ids shown up in all 20 frames: [1.0, 2.0, 3.0, 4.0, 5.0, 6.0, 8.0] ###\n",
    "### Two trajectory plots ###\n",
    "\n",
    "ped_ids_20_frames = []\n",
    "for i in range(0, 19):\n",
    "    ped_ids_20_frames.append(set(traj_data_table.loc[traj_data_table['frame_id'] == i*10]['ped_id']))\n",
    "common_ped_ids_20_frames = list(set.intersection(*ped_ids_20_frames))\n",
    "print('ped_ids shown up in all 20 frames:', common_ped_ids_20_frames)\n",
    "\n",
    "\n",
    "_, ax = plt.subplots()\n",
    "for common_ped_id in common_ped_ids_20_frames[:8]: \n",
    "    ped_traj_pred = traj_data_table.loc[(traj_data_table['ped_id'] == common_ped_id) & (traj_data_table['frame_id'] <= 190)]\n",
    "    ax.plot(ped_traj_pred['x'], ped_traj_pred['y'], 'o-')\n",
    "ax.set_aspect('equal', adjustable='box')\n",
    "plt.show()\n",
    "\n",
    "\n",
    "_, ax = plt.subplots()\n",
    "for common_ped_id in common_ped_ids_20_frames[:8]: \n",
    "    ped_traj_pred = traj_data_table.loc[(traj_data_table['ped_id'] == common_ped_id) & (traj_data_table['frame_id'] >= 70) \\\n",
    "                                       & (traj_data_table['frame_id'] <= 190)]\n",
    "    ax.plot(ped_traj_pred['x'], ped_traj_pred['y'], 'o-', c='C3') # red\n",
    "    ped_traj_obs = traj_data_table.loc[(traj_data_table['ped_id'] == common_ped_id) & (traj_data_table['frame_id'] < 80)]\n",
    "    ax.plot(ped_traj_obs['x'], ped_traj_obs['y'], 'o-',c='C0') # blue\n",
    "ax.set_aspect('equal', adjustable='box')\n",
    "plt.show()\n",
    "\n"
   ]
  },
  {
   "cell_type": "markdown",
   "metadata": {},
   "source": [
    "## 3. Customize a torch dataset for multi-pedestrian trajectory data.\n",
    "\n",
    "Deep learning has become increasingly effective in learning patterns from data in recent years. We will use [PyTorch](https://pytorch.org) as our deep learning framework to handle multi-pedestrian trajectory prediction tasks.\n",
    "\n",
    "The first step to accomplish the task is to build a dataset that algorithms developed in Pytorch can recognize as input. Check out TrajectoryDataset class in utils.py, which we will be using to create the dataset.\n",
    "\n",
    "Extension: [Mini-batch Gradient Descent](https://xzz201920.medium.com/gradient-descent-stochastic-vs-mini-batch-vs-batch-vs-adagrad-vs-rmsprop-vs-adam-3aa652318b0d).\n",
    "\n",
    "![title](sgd_bgd_mbgd.png)\n"
   ]
  },
  {
   "cell_type": "code",
   "execution_count": 53,
   "metadata": {},
   "outputs": [
    {
     "name": "stdout",
     "output_type": "stream",
     "text": [
      "['torch_data_tutorial/datasets/zara1/train/train.txt']\n",
      "Processing Data .....\n"
     ]
    },
    {
     "data": {
      "application/vnd.jupyter.widget-view+json": {
       "model_id": "c43904c4a8e04ef5b0d3ceec2f848e27",
       "version_major": 2,
       "version_minor": 0
      },
      "text/plain": [
       "HBox(children=(FloatProgress(value=0.0, max=503.0), HTML(value='')))"
      ]
     },
     "metadata": {},
     "output_type": "display_data"
    },
    {
     "name": "stdout",
     "output_type": "stream",
     "text": [
      "\n",
      "['torch_data_tutorial/datasets/zara1/val/val.txt']\n",
      "Processing Data .....\n"
     ]
    },
    {
     "data": {
      "application/vnd.jupyter.widget-view+json": {
       "model_id": "74111fd025454029b47b5e454c8b4edf",
       "version_major": 2,
       "version_minor": 0
      },
      "text/plain": [
       "HBox(children=(FloatProgress(value=0.0, max=85.0), HTML(value='')))"
      ]
     },
     "metadata": {},
     "output_type": "display_data"
    },
    {
     "name": "stdout",
     "output_type": "stream",
     "text": [
      "\n",
      "['torch_data_tutorial/datasets/zara1/test/crowds_zara01.txt']\n",
      "Processing Data .....\n"
     ]
    },
    {
     "data": {
      "application/vnd.jupyter.widget-view+json": {
       "model_id": "d5a98bd568db44e5a21bfb2e82e60986",
       "version_major": 2,
       "version_minor": 0
      },
      "text/plain": [
       "HBox(children=(FloatProgress(value=0.0, max=602.0), HTML(value='')))"
      ]
     },
     "metadata": {},
     "output_type": "display_data"
    },
    {
     "name": "stdout",
     "output_type": "stream",
     "text": [
      "\n"
     ]
    }
   ],
   "source": [
    "### expected output: ###\n",
    "# ['torch_data_tutorial/datasets/zara1/train/train.txt']\n",
    "# Processing Data .....\n",
    "# 100%\n",
    "# 503/503 [00:11<00:00, 42.84it/s]\n",
    "#\n",
    "# ['torch_data_tutorial/datasets/zara1/val/val.txt']\n",
    "# Processing Data .....\n",
    "# 100%\n",
    "# 85/85 [00:05<00:00, 15.75it/s]\n",
    "#\n",
    "# ['torch_data_tutorial/datasets/zara1/test/crowds_zara01.txt']\n",
    "# Processing Data .....\n",
    "# 100%\n",
    "# 602/602 [00:13<00:00, 43.06it/s]\n",
    "\n",
    "pkg_path = 'torch_data_tutorial'\n",
    "dsets = create_datasets(args, pkg_path, save_datasets=False)"
   ]
  },
  {
   "cell_type": "code",
   "execution_count": 54,
   "metadata": {},
   "outputs": [],
   "source": [
    "dloader_train = DataLoader(\n",
    "        dsets['train'],\n",
    "        batch_size=1,\n",
    "        shuffle=True,\n",
    "        num_workers=1)"
   ]
  },
  {
   "cell_type": "code",
   "execution_count": 58,
   "metadata": {},
   "outputs": [],
   "source": [
    "def get_batch_sample(loader_test, device='cuda:0'):\n",
    "    batch_count = 1\n",
    "    for cnt, batch in enumerate(loader_test):\n",
    "        batch_count += 1\n",
    "        # Get data\n",
    "        batch = [tensor.to(device) for tensor in batch]\n",
    "        # ** Name of variables in a batch\n",
    "        # * obs_traj, pred_traj_gt, obs_traj_rel, pred_traj_gt_rel, non_linear_ped,\\\n",
    "        # *    loss_mask, V_obs, A_obs, V_tr, A_tr = batch\n",
    "        var_names = [\n",
    "            'obs_traj', 'pred_traj_gt', 'obs_traj_rel', 'pred_traj_gt_rel', 'non_linear_ped',\n",
    "            'loss_mask', 'V_obs', 'A_obs', 'V_tr', 'A_tr']\n",
    "        for var_name_i, batch_i in zip(var_names, batch):\n",
    "            if var_name_i == 'obs_traj' and batch_i.shape[1] == 5: # get five-pedestrian case\n",
    "                return batch\n",
    "\n",
    "def visualize_dataloader(data_loader, attn_scale=1., device='cuda:0'):\n",
    "    \"\"\"\n",
    "    visualize data and attention in a batch generated by data_loader.\n",
    "    \"\"\"\n",
    "    batch = get_batch_sample(data_loader, device=device)\n",
    "    obs_traj, pred_traj_gt, obs_traj_rel, pred_traj_gt_rel, non_linear_ped,\\\n",
    "        loss_mask, V_obs, A_obs, V_tr, A_tr = batch\n",
    "    obs_ts = 2 # time of attention\n",
    "    attn = A_obs[0, obs_ts]  # (num_peds, num_peds)\n",
    "    fig, ax = plt.subplots()\n",
    "    colors = 'rgggg'\n",
    "#     attn_scale = 1. # size of attention circle\n",
    "    for ped_i in range(obs_traj.shape[1]):\n",
    "        x_obs_i = obs_traj[0, ped_i].to('cpu')\n",
    "        x_gt_i = pred_traj_gt[0, ped_i].to('cpu')\n",
    "        # ax.plot(x_obs_i[0, :], x_obs_i[1, :], 'o-', c='C0')\n",
    "        x_concat_i = torch.cat([x_obs_i, x_gt_i], dim=1)\n",
    "        ax.plot(x_concat_i[0, :], x_concat_i[1, :], 'o-',c='C3')\n",
    "        ax.plot(x_obs_i[0, :], x_obs_i[1, :], 'o-', c='C0')\n",
    "        ax.plot(x_obs_i[0, obs_ts], x_obs_i[1, obs_ts], 'ko-')\n",
    "        # ax.plot(x_gt_i[0, :], x_gt_i[1, :], 'o-',c='C3')\n",
    "        attn_i = plt.Circle(\n",
    "            x_obs_i[:, obs_ts], abs(attn[ped_i, 0])*attn_scale, color=colors[ped_i], fill=False)\n",
    "        ax.add_artist(attn_i)\n",
    "    ax.set_aspect('equal', adjustable='box')\n",
    "    plt.show()"
   ]
  },
  {
   "cell_type": "code",
   "execution_count": 60,
   "metadata": {},
   "outputs": [
    {
     "data": {
      "image/png": "[encoded data removed]",
      "text/plain": [
       "<Figure size 432x288 with 1 Axes>"
      ]
     },
     "metadata": {
      "needs_background": "light"
     },
     "output_type": "display_data"
    }
   ],
   "source": [
    "### expected output: ###\n",
    "### Visualization on trajectories and attention ###\n",
    "\n",
    "visualize_dataloader(dloader_train, attn_scale=1.5, device=device)"
   ]
  },
  {
   "cell_type": "code",
   "execution_count": null,
   "metadata": {},
   "outputs": [],
   "source": []
  }
 ],
 "metadata": {
  "colab": {
   "name": "torch_dataset_tutorial.ipynb",
   "provenance": []
  },
  "kernelspec": {
   "display_name": "Python 3",
   "language": "python",
   "name": "python3"
  },
  "language_info": {
   "codemirror_mode": {
    "name": "ipython",
    "version": 3
   },
   "file_extension": ".py",
   "mimetype": "text/x-python",
   "name": "python",
   "nbconvert_exporter": "python",
   "pygments_lexer": "ipython3",
   "version": "3.6.9"
  }
 },
 "nbformat": 4,
 "nbformat_minor": 1
}
