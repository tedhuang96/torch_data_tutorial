{
 "cells": [
  {
   "cell_type": "code",
   "execution_count": 2,
   "metadata": {
    "colab": {
     "base_uri": "https://localhost:8080/"
    },
    "id": "m_wnepU1gHFm",
    "outputId": "8539068f-c234-4e00-8250-e013391b5d98",
    "scrolled": false
   },
   "outputs": [
    {
     "name": "stdout",
     "output_type": "stream",
     "text": [
      "Cloning into 'torch_data_tutorial'...\n",
      "remote: Enumerating objects: 59, done.\u001b[K\n",
      "remote: Counting objects: 100% (59/59), done.\u001b[K\n",
      "remote: Compressing objects: 100% (42/42), done.\u001b[K\n",
      "remote: Total 59 (delta 12), reused 55 (delta 12), pack-reused 0\u001b[K\n",
      "Unpacking objects: 100% (59/59), done.\n"
     ]
    }
   ],
   "source": [
    "!git clone https://github.com/tedhuang96/torch_data_tutorial.git"
   ]
  },
  {
   "cell_type": "code",
   "execution_count": 3,
   "metadata": {},
   "outputs": [
    {
     "name": "stdout",
     "output_type": "stream",
     "text": [
      "cuda:0\n"
     ]
    }
   ],
   "source": [
    "import torch\n",
    "import argparse\n",
    "import matplotlib.pyplot as plt\n",
    "from torch.utils.data import DataLoader\n",
    "\n",
    "from torch_data_tutorial.utils import anorm, create_datasets_test\n",
    "device = torch.device(\"cuda:0\" if torch.cuda.is_available() else \"cpu\")\n",
    "print(device)"
   ]
  },
  {
   "cell_type": "code",
   "execution_count": 4,
   "metadata": {
    "scrolled": true
   },
   "outputs": [
    {
     "name": "stdout",
     "output_type": "stream",
     "text": [
      "0.2\n"
     ]
    }
   ],
   "source": [
    "### expected output: 0.2 ###\n",
    "\n",
    "p1, p2 = torch.tensor([1.,2.]), torch.tensor([4.,-2.])\n",
    "print(anorm(p1, p2)) # the inverse of distance between p1 and p2"
   ]
  },
  {
   "cell_type": "code",
   "execution_count": 5,
   "metadata": {},
   "outputs": [
    {
     "name": "stdout",
     "output_type": "stream",
     "text": [
      "Namespace(attn_mech='auth', dataset='zara1', obs_seq_len=8, pred_seq_len=12)\n"
     ]
    }
   ],
   "source": [
    "### expected output: ###\n",
    "### Namespace(attn_mech='auth', dataset='zara1', obs_seq_len=8, pred_seq_len=12) ###\n",
    "\n",
    "def arg_parse_notebook(obs_seq_len, pred_seq_len, dataset, attn_mech):\n",
    "    obs_seq_len, pred_seq_len = str(obs_seq_len), str(pred_seq_len)\n",
    "    parser = argparse.ArgumentParser()\n",
    "    parser.add_argument('--obs_seq_len', type=int, default=0)\n",
    "    parser.add_argument('--pred_seq_len', type=int, default=0)\n",
    "    parser.add_argument('--dataset', default='eth',\n",
    "                        help='eth,hotel,univ,zara1,zara2')\n",
    "    parser.add_argument('--attn_mech', default='glob_kip',\n",
    "                        help='attention mechanism: glob_kip, auth')\n",
    "    args_list = ['--obs_seq_len', obs_seq_len, '--pred_seq_len', pred_seq_len, '--dataset', dataset, '--attn_mech', attn_mech]\n",
    "    return parser.parse_args(args_list)\n",
    "\n",
    "obs_seq_len, pred_seq_len, dataset, attn_mech = 8, 12, 'zara1', 'auth'\n",
    "args = arg_parse_notebook(obs_seq_len, pred_seq_len, dataset, attn_mech)\n",
    "print(args)"
   ]
  },
  {
   "cell_type": "code",
   "execution_count": null,
   "metadata": {},
   "outputs": [],
   "source": [
    "### expected output: ###\n",
    "# ['torch_data_tutorial/datasets/zara1/test/crowds_zara01.txt']\n",
    "# Processing Data .....\n",
    "# 100% #A PROCESSING BAR# 602/602 [00:13<00:00, 43.32it/s]\n",
    "\n",
    "pkg_path = 'torch_data_tutorial'\n",
    "dsets = create_datasets(args, pkg_path, save_datasets=False)"
   ]
  },
  {
   "cell_type": "code",
   "execution_count": null,
   "metadata": {},
   "outputs": [],
   "source": [
    "dloader_test = DataLoader(\n",
    "        dsets['test'],\n",
    "        batch_size=1,\n",
    "        shuffle=True,\n",
    "        num_workers=1)"
   ]
  },
  {
   "cell_type": "code",
   "execution_count": null,
   "metadata": {},
   "outputs": [],
   "source": [
    "def get_batch_sample(loader_test, device='cuda:0'):\n",
    "    batch_count = 1\n",
    "    for cnt, batch in enumerate(loader_test):\n",
    "        batch_count += 1\n",
    "        # Get data\n",
    "        batch = [tensor.to(device) for tensor in batch]\n",
    "        # ** Name of variables in a batch\n",
    "        # * obs_traj, pred_traj_gt, obs_traj_rel, pred_traj_gt_rel, non_linear_ped,\\\n",
    "        # *    loss_mask, V_obs, A_obs, V_tr, A_tr = batch\n",
    "        var_names = [\n",
    "            'obs_traj', 'pred_traj_gt', 'obs_traj_rel', 'pred_traj_gt_rel', 'non_linear_ped',\n",
    "            'loss_mask', 'V_obs', 'A_obs', 'V_tr', 'A_tr']\n",
    "        for var_name_i, batch_i in zip(var_names, batch):\n",
    "            if var_name_i == 'obs_traj' and batch_i.shape[1] == 5: # get five-pedestrian case\n",
    "                return batch\n",
    "\n",
    "\n",
    "def visualize_dataloader(data_loader, device='cuda:0'):\n",
    "    \"\"\"\n",
    "    visualize data and attention in a batch generated by data_loader.\n",
    "    \"\"\"\n",
    "    batch = get_batch_sample(data_loader, device=device)\n",
    "    obs_traj, pred_traj_gt, obs_traj_rel, pred_traj_gt_rel, non_linear_ped,\\\n",
    "        loss_mask, V_obs, A_obs, V_tr, A_tr = batch\n",
    "    obs_ts = 6 # time of attention\n",
    "    attn = A_obs[0, obs_ts]  # (num_peds, num_peds)\n",
    "    fig, ax = plt.subplots()\n",
    "    colors = 'rymbk'\n",
    "    attn_scale = 1. # size of attention circle\n",
    "    for ped_i in range(obs_traj.shape[1]):\n",
    "        x_obs_i = obs_traj[0, ped_i].to('cpu')\n",
    "        x_gt_i = pred_traj_gt[0, ped_i].to('cpu')\n",
    "        ax.plot(x_obs_i[0, :], x_obs_i[1, :], 'k.-')\n",
    "        ax.plot(x_gt_i[0, :], x_gt_i[1, :], 'r.-')\n",
    "        attn_i = plt.Circle(\n",
    "            x_obs_i[:, obs_ts], abs(attn[ped_i, 0])*attn_scale, color=colors[ped_i], fill=False)\n",
    "        ax.add_artist(attn_i)\n",
    "    ax.set_aspect('equal', adjustable='box')\n",
    "    plt.show()"
   ]
  },
  {
   "cell_type": "code",
   "execution_count": null,
   "metadata": {},
   "outputs": [],
   "source": [
    "### expected output: ###\n",
    "### Visualization on trajectories and attention ###\n",
    "\n",
    "visualize_dataloader(dloader_test, device=device)"
   ]
  }
 ],
 "metadata": {
  "colab": {
   "name": "torch_dataset_tutorial.ipynb",
   "provenance": []
  },
  "kernelspec": {
   "display_name": "Python 3",
   "language": "python",
   "name": "python3"
  },
  "language_info": {
   "codemirror_mode": {
    "name": "ipython",
    "version": 3
   },
   "file_extension": ".py",
   "mimetype": "text/x-python",
   "name": "python",
   "nbconvert_exporter": "python",
   "pygments_lexer": "ipython3",
   "version": "3.6.9"
  }
 },
 "nbformat": 4,
 "nbformat_minor": 1
}
